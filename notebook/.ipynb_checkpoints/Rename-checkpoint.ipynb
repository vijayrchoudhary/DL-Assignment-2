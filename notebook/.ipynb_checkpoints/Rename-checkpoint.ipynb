{
 "cells": [
  {
   "cell_type": "code",
   "execution_count": 3,
   "metadata": {},
   "outputs": [],
   "source": [
    "import os\n",
    "os.getcwd()\n",
    "collection = r\"D:\\university\\After\\NUIG_Subjects\\SEM_2\\deepLearning\\Assignment2\\data\\Car\\\\\"\n",
    "for i, filename in enumerate(os.listdir(collection)):\n",
    "    os.rename(r\"D:\\university\\After\\NUIG_Subjects\\SEM_2\\deepLearning\\Assignment2\\data\\Car\\\\\" + filename, r\"D:\\university\\After\\NUIG_Subjects\\SEM_2\\deepLearning\\Assignment2\\data\\Car\\Car_\" + str(i) + \".jpeg\")"
   ]
  },
  {
   "cell_type": "code",
   "execution_count": null,
   "metadata": {},
   "outputs": [],
   "source": []
  }
 ],
 "metadata": {
  "kernelspec": {
   "display_name": "Python 3",
   "language": "python",
   "name": "python3"
  },
  "language_info": {
   "codemirror_mode": {
    "name": "ipython",
    "version": 3
   },
   "file_extension": ".py",
   "mimetype": "text/x-python",
   "name": "python",
   "nbconvert_exporter": "python",
   "pygments_lexer": "ipython3",
   "version": "3.7.6"
  }
 },
 "nbformat": 4,
 "nbformat_minor": 4
}
