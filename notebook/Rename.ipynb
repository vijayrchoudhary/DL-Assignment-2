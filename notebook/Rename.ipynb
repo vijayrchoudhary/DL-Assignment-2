{
 "cells": [
  {
   "cell_type": "code",
   "execution_count": 24,
   "metadata": {},
   "outputs": [
    {
     "ename": "FileExistsError",
     "evalue": "[WinError 183] Cannot create a file when that file already exists: 'D:\\\\university\\\\After\\\\NUIG_Subjects\\\\SEM_2\\\\deepLearning\\\\DL-Assignment-2\\\\data\\\\Car\\\\\\\\Car_102.jpeg' -> 'D:\\\\university\\\\After\\\\NUIG_Subjects\\\\SEM_2\\\\deepLearning\\\\DL-Assignment-2\\\\data\\\\Car\\\\Car_2.jpeg'",
     "output_type": "error",
     "traceback": [
      "\u001b[1;31m---------------------------------------------------------------------------\u001b[0m",
      "\u001b[1;31mFileExistsError\u001b[0m                           Traceback (most recent call last)",
      "\u001b[1;32m<ipython-input-24-e0430dc0652d>\u001b[0m in \u001b[0;36m<module>\u001b[1;34m\u001b[0m\n\u001b[0;32m      3\u001b[0m \u001b[0mcollection\u001b[0m \u001b[1;33m=\u001b[0m \u001b[1;34mr\"D:\\university\\After\\NUIG_Subjects\\SEM_2\\deepLearning\\DL-Assignment-2\\data\\Car\\\\\"\u001b[0m\u001b[1;33m\u001b[0m\u001b[1;33m\u001b[0m\u001b[0m\n\u001b[0;32m      4\u001b[0m \u001b[1;32mfor\u001b[0m \u001b[0mi\u001b[0m\u001b[1;33m,\u001b[0m \u001b[0mfilename\u001b[0m \u001b[1;32min\u001b[0m \u001b[0menumerate\u001b[0m\u001b[1;33m(\u001b[0m\u001b[0mos\u001b[0m\u001b[1;33m.\u001b[0m\u001b[0mlistdir\u001b[0m\u001b[1;33m(\u001b[0m\u001b[0mcollection\u001b[0m\u001b[1;33m)\u001b[0m\u001b[1;33m)\u001b[0m\u001b[1;33m:\u001b[0m\u001b[1;33m\u001b[0m\u001b[1;33m\u001b[0m\u001b[0m\n\u001b[1;32m----> 5\u001b[1;33m     \u001b[0mos\u001b[0m\u001b[1;33m.\u001b[0m\u001b[0mrename\u001b[0m\u001b[1;33m(\u001b[0m\u001b[1;34mr\"D:\\university\\After\\NUIG_Subjects\\SEM_2\\deepLearning\\DL-Assignment-2\\data\\Car\\\\\"\u001b[0m \u001b[1;33m+\u001b[0m \u001b[0mfilename\u001b[0m\u001b[1;33m,\u001b[0m \u001b[1;34mr\"D:\\university\\After\\NUIG_Subjects\\SEM_2\\deepLearning\\DL-Assignment-2\\data\\Car\\Car_\"\u001b[0m \u001b[1;33m+\u001b[0m \u001b[0mstr\u001b[0m\u001b[1;33m(\u001b[0m\u001b[0mi\u001b[0m\u001b[1;33m)\u001b[0m \u001b[1;33m+\u001b[0m \u001b[1;34m\".jpeg\"\u001b[0m\u001b[1;33m)\u001b[0m\u001b[1;33m\u001b[0m\u001b[1;33m\u001b[0m\u001b[0m\n\u001b[0m",
      "\u001b[1;31mFileExistsError\u001b[0m: [WinError 183] Cannot create a file when that file already exists: 'D:\\\\university\\\\After\\\\NUIG_Subjects\\\\SEM_2\\\\deepLearning\\\\DL-Assignment-2\\\\data\\\\Car\\\\\\\\Car_102.jpeg' -> 'D:\\\\university\\\\After\\\\NUIG_Subjects\\\\SEM_2\\\\deepLearning\\\\DL-Assignment-2\\\\data\\\\Car\\\\Car_2.jpeg'"
     ]
    }
   ],
   "source": [
    "import os\n",
    "os.getcwd()\n",
    "collection = r\"D:\\university\\After\\NUIG_Subjects\\SEM_2\\deepLearning\\DL-Assignment-2\\data\\Car\\\\\"\n",
    "for i, filename in enumerate(os.listdir(collection)):\n",
    "    os.rename(r\"D:\\university\\After\\NUIG_Subjects\\SEM_2\\deepLearning\\DL-Assignment-2\\data\\Car\\\\\" + filename, r\"D:\\university\\After\\NUIG_Subjects\\SEM_2\\deepLearning\\DL-Assignment-2\\data\\Car\\Car_\" + str(i) + \".jpeg\")"
   ]
  },
  {
   "cell_type": "code",
   "execution_count": null,
   "metadata": {},
   "outputs": [],
   "source": []
  }
 ],
 "metadata": {
  "kernelspec": {
   "display_name": "Python 3",
   "language": "python",
   "name": "python3"
  },
  "language_info": {
   "codemirror_mode": {
    "name": "ipython",
    "version": 3
   },
   "file_extension": ".py",
   "mimetype": "text/x-python",
   "name": "python",
   "nbconvert_exporter": "python",
   "pygments_lexer": "ipython3",
   "version": "3.7.6"
  }
 },
 "nbformat": 4,
 "nbformat_minor": 4
}
